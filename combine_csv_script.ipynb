{
  "nbformat": 4,
  "nbformat_minor": 0,
  "metadata": {
    "colab": {
      "name": "combine_csv_script.ipynb",
      "provenance": [],
      "mount_file_id": "1DnRSeo3rAe7TTelpNx17vV2406oqqg47",
      "authorship_tag": "ABX9TyMW93Y/N337XvjK//TNEVqL",
      "include_colab_link": true
    },
    "kernelspec": {
      "name": "python3",
      "display_name": "Python 3"
    },
    "accelerator": "GPU"
  },
  "cells": [
    {
      "cell_type": "markdown",
      "metadata": {
        "id": "view-in-github",
        "colab_type": "text"
      },
      "source": [
        "<a href=\"https://colab.research.google.com/github/EXYNOS-999/misc/blob/master/combine_csv_script.ipynb\" target=\"_parent\"><img src=\"https://colab.research.google.com/assets/colab-badge.svg\" alt=\"Open In Colab\"/></a>"
      ]
    },
    {
      "cell_type": "code",
      "metadata": {
        "id": "TGHBcsDxA567",
        "colab_type": "code",
        "colab": {}
      },
      "source": [
        "# -*- coding: utf-8 -*-\n",
        "\n",
        "\n",
        "import os\n",
        "import glob\n",
        "import pandas as pd\n",
        "#set working directory\n",
        "os.chdir(\"/content/sample_data/csv\")\n",
        "\n",
        "#find all csv files in the folder\n",
        "#use glob pattern matching -> extension = 'csv'\n",
        "#save result in list -> all_filenames\n",
        "extension = 'csv'\n",
        "all_filenames = [i for i in glob.glob('*.{}'.format(extension))]\n",
        "#print(all_filenames)\n",
        "\n",
        "#combine all files in the list\n",
        "combined_csv = pd.concat([pd.read_csv(f) for f in all_filenames ])\n",
        "#export to csv\n",
        "combined_csv.to_csv( \"combined_csv.csv\", index=False, encoding='utf-8-sig')"
      ],
      "execution_count": 1,
      "outputs": []
    }
  ]
}